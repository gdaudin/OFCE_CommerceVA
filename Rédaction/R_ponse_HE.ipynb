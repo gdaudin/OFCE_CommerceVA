{
 "cells": [
  {
   "cell_type": "code",
   "execution_count": 66,
   "metadata": {},
   "outputs": [],
   "source": [
    "a_11, a_12, a_21, a_22 = var('a_11 a_12 a_21 a_22')"
   ]
  },
  {
   "cell_type": "code",
   "execution_count": 67,
   "metadata": {},
   "outputs": [],
   "source": [
    "A=Matrix([[a_11,a_12],[a_21,a_22]])"
   ]
  },
  {
   "cell_type": "code",
   "execution_count": 163,
   "metadata": {},
   "outputs": [
    {
     "data": {
      "text/plain": [
       "[a_11 a_12]\n",
       "[a_21 a_22]"
      ]
     },
     "execution_count": 163,
     "metadata": {},
     "output_type": "execute_result"
    }
   ],
   "source": [
    "A"
   ]
  },
  {
   "cell_type": "code",
   "execution_count": 68,
   "metadata": {},
   "outputs": [],
   "source": [
    "I=identity_matrix(2)"
   ]
  },
  {
   "cell_type": "code",
   "execution_count": 69,
   "metadata": {},
   "outputs": [
    {
     "data": {
      "text/plain": [
       "[-a_11 + 1     -a_12]\n",
       "[    -a_21 -a_22 + 1]"
      ]
     },
     "execution_count": 69,
     "metadata": {},
     "output_type": "execute_result"
    }
   ],
   "source": [
    "I-A"
   ]
  },
  {
   "cell_type": "code",
   "execution_count": 70,
   "metadata": {},
   "outputs": [
    {
     "data": {
      "text/plain": [
       "[-1/(a_11 - 1) + a_12*a_21/((a_11 - 1)^2*(a_12*a_21/(a_11 - 1) - a_22 + 1))                       -a_12/((a_11 - 1)*(a_12*a_21/(a_11 - 1) - a_22 + 1))]\n",
       "[                      -a_21/((a_11 - 1)*(a_12*a_21/(a_11 - 1) - a_22 + 1))                                        1/(a_12*a_21/(a_11 - 1) - a_22 + 1)]"
      ]
     },
     "execution_count": 70,
     "metadata": {},
     "output_type": "execute_result"
    }
   ],
   "source": [
    "(I-A)^(-1)"
   ]
  },
  {
   "cell_type": "code",
   "execution_count": 71,
   "metadata": {},
   "outputs": [
    {
     "data": {
      "text/plain": [
       "[1/a_11 - a_12*a_21/(a_11^2*(a_12*a_21/a_11 - a_22))                 a_12/(a_11*(a_12*a_21/a_11 - a_22))]\n",
       "[                a_21/(a_11*(a_12*a_21/a_11 - a_22))                          -1/(a_12*a_21/a_11 - a_22)]"
      ]
     },
     "execution_count": 71,
     "metadata": {},
     "output_type": "execute_result"
    }
   ],
   "source": [
    "A^(-1)"
   ]
  },
  {
   "cell_type": "code",
   "execution_count": 72,
   "metadata": {},
   "outputs": [],
   "source": [
    "f = var('f')"
   ]
  },
  {
   "cell_type": "code",
   "execution_count": 73,
   "metadata": {},
   "outputs": [],
   "source": [
    "d=Matrix([[1-f],[f]])"
   ]
  },
  {
   "cell_type": "code",
   "execution_count": 74,
   "metadata": {},
   "outputs": [
    {
     "data": {
      "text/plain": [
       "[-f + 1]\n",
       "[     f]"
      ]
     },
     "execution_count": 74,
     "metadata": {},
     "output_type": "execute_result"
    }
   ],
   "source": [
    "d"
   ]
  },
  {
   "cell_type": "code",
   "execution_count": 75,
   "metadata": {},
   "outputs": [
    {
     "data": {
      "text/plain": [
       "[(f - 1)*(1/(a_11 - 1) - a_12*a_21/((a_11 - 1)^2*(a_12*a_21/(a_11 - 1) - a_22 + 1))) - a_12*f/((a_11 - 1)*(a_12*a_21/(a_11 - 1) - a_22 + 1))]\n",
       "[                                          a_21*(f - 1)/((a_11 - 1)*(a_12*a_21/(a_11 - 1) - a_22 + 1)) + f/(a_12*a_21/(a_11 - 1) - a_22 + 1)]"
      ]
     },
     "execution_count": 75,
     "metadata": {},
     "output_type": "execute_result"
    }
   ],
   "source": [
    "(I-A)^(-1)*d"
   ]
  },
  {
   "cell_type": "code",
   "execution_count": 76,
   "metadata": {},
   "outputs": [],
   "source": [
    "c = var('c')"
   ]
  },
  {
   "cell_type": "code",
   "execution_count": 77,
   "metadata": {},
   "outputs": [],
   "source": [
    "C=Matrix([[0,c]])"
   ]
  },
  {
   "cell_type": "code",
   "execution_count": 78,
   "metadata": {},
   "outputs": [
    {
     "data": {
      "text/plain": [
       "[0 c]"
      ]
     },
     "execution_count": 78,
     "metadata": {},
     "output_type": "execute_result"
    }
   ],
   "source": [
    "C"
   ]
  },
  {
   "cell_type": "code",
   "execution_count": 79,
   "metadata": {},
   "outputs": [
    {
     "data": {
      "text/plain": [
       "[-a_21*c/((a_11 - 1)*(a_12*a_21/(a_11 - 1) - a_22 + 1))                    c/(a_12*a_21/(a_11 - 1) - a_22 + 1)]"
      ]
     },
     "execution_count": 79,
     "metadata": {},
     "output_type": "execute_result"
    }
   ],
   "source": [
    "C*(I-A)^(-1)"
   ]
  },
  {
   "cell_type": "code",
   "execution_count": 80,
   "metadata": {},
   "outputs": [
    {
     "data": {
      "text/plain": [
       "[a_21*c*(f - 1)/((a_11 - 1)*(a_12*a_21/(a_11 - 1) - a_22 + 1)) + c*f/(a_12*a_21/(a_11 - 1) - a_22 + 1)]"
      ]
     },
     "execution_count": 80,
     "metadata": {},
     "output_type": "execute_result"
    }
   ],
   "source": [
    "C*(I-A)^(-1)*d"
   ]
  },
  {
   "cell_type": "code",
   "execution_count": 81,
   "metadata": {},
   "outputs": [],
   "source": [
    "Cdol=Matrix([[-c,0]])"
   ]
  },
  {
   "cell_type": "code",
   "execution_count": 82,
   "metadata": {},
   "outputs": [],
   "source": [
    "B=Matrix([[0,a_12],[0,0]])"
   ]
  },
  {
   "cell_type": "code",
   "execution_count": 164,
   "metadata": {},
   "outputs": [
    {
     "data": {
      "text/plain": [
       "[   0 a_12]\n",
       "[   0    0]"
      ]
     },
     "execution_count": 164,
     "metadata": {},
     "output_type": "execute_result"
    }
   ],
   "source": [
    "B"
   ]
  },
  {
   "cell_type": "code",
   "execution_count": 83,
   "metadata": {},
   "outputs": [],
   "source": [
    "Btilde=Matrix([[0,0],[a_21,0]])"
   ]
  },
  {
   "cell_type": "code",
   "execution_count": 214,
   "metadata": {},
   "outputs": [
    {
     "data": {
      "text/plain": [
       "[   0    0]\n",
       "[a_21    0]"
      ]
     },
     "execution_count": 214,
     "metadata": {},
     "output_type": "execute_result"
    }
   ],
   "source": [
    "Btilde"
   ]
  },
  {
   "cell_type": "code",
   "execution_count": 84,
   "metadata": {},
   "outputs": [],
   "source": [
    "S=C+(Cdol*B+C*Btilde)*(I-A)^(-1)"
   ]
  },
  {
   "cell_type": "code",
   "execution_count": 85,
   "metadata": {},
   "outputs": [
    {
     "data": {
      "text/plain": [
       "[-a_21*c*(1/(a_11 - 1) - a_12*a_21/((a_11 - 1)^2*(a_12*a_21/(a_11 - 1) - a_22 + 1))) + a_12*a_21*c/((a_11 - 1)*(a_12*a_21/(a_11 - 1) - a_22 + 1))                                       -a_12*c/(a_12*a_21/(a_11 - 1) - a_22 + 1) - a_12*a_21*c/((a_11 - 1)*(a_12*a_21/(a_11 - 1) - a_22 + 1)) + c]"
      ]
     },
     "execution_count": 85,
     "metadata": {},
     "output_type": "execute_result"
    }
   ],
   "source": [
    "S"
   ]
  },
  {
   "cell_type": "code",
   "execution_count": 86,
   "metadata": {},
   "outputs": [],
   "source": [
    "s=S*d"
   ]
  },
  {
   "cell_type": "code",
   "execution_count": 87,
   "metadata": {},
   "outputs": [
    {
     "data": {
      "text/plain": [
       "[(a_21*c*(1/(a_11 - 1) - a_12*a_21/((a_11 - 1)^2*(a_12*a_21/(a_11 - 1) - a_22 + 1))) - a_12*a_21*c/((a_11 - 1)*(a_12*a_21/(a_11 - 1) - a_22 + 1)))*(f - 1) - (a_12*c/(a_12*a_21/(a_11 - 1) - a_22 + 1) + a_12*a_21*c/((a_11 - 1)*(a_12*a_21/(a_11 - 1) - a_22 + 1)) - c)*f]"
      ]
     },
     "execution_count": 87,
     "metadata": {},
     "output_type": "execute_result"
    }
   ],
   "source": [
    "s"
   ]
  },
  {
   "cell_type": "code",
   "execution_count": 88,
   "metadata": {},
   "outputs": [
    {
     "data": {
      "text/plain": [
       "[-(((a_11 - 1)*a_12 + (a_12 - 1)*a_21 + (a_11 + a_21 - 1)*a_22 - a_11 + 1)*c*f - ((a_12 - 1)*a_21 + a_21*a_22)*c)/(a_12*a_21 - (a_11 - 1)*a_22 + a_11 - 1)]"
      ]
     },
     "execution_count": 88,
     "metadata": {},
     "output_type": "execute_result"
    }
   ],
   "source": [
    "s.simplify_full()"
   ]
  },
  {
   "cell_type": "code",
   "execution_count": 89,
   "metadata": {},
   "outputs": [
    {
     "data": {
      "text/plain": [
       "[                  ((a_12 - 1)*a_21 + a_21*a_22)*c/(a_12*a_21 - (a_11 - 1)*a_22 + a_11 - 1) -((a_11 - 1)*a_12 + (a_11 - 1)*a_22 - a_11 + 1)*c/(a_12*a_21 - (a_11 - 1)*a_22 + a_11 - 1)]"
      ]
     },
     "execution_count": 89,
     "metadata": {},
     "output_type": "execute_result"
    }
   ],
   "source": [
    "S.simplify_full()"
   ]
  },
  {
   "cell_type": "code",
   "execution_count": 90,
   "metadata": {},
   "outputs": [],
   "source": [
    "E1=C"
   ]
  },
  {
   "cell_type": "code",
   "execution_count": 91,
   "metadata": {},
   "outputs": [],
   "source": [
    "E2=C*Btilde"
   ]
  },
  {
   "cell_type": "code",
   "execution_count": 92,
   "metadata": {},
   "outputs": [],
   "source": [
    "residual=s-E1*d-E2*d"
   ]
  },
  {
   "cell_type": "code",
   "execution_count": 93,
   "metadata": {},
   "outputs": [
    {
     "data": {
      "text/plain": [
       "[((a_12*a_21^2 - a_11*a_21*a_22 - (a_11 - 1)*a_12 + (a_11 - 2*a_12)*a_21)*c*f - (a_12*a_21^2 - a_11*a_21*a_22 + (a_11 - a_12)*a_21)*c)/(a_12*a_21 - (a_11 - 1)*a_22 + a_11 - 1)]"
      ]
     },
     "execution_count": 93,
     "metadata": {},
     "output_type": "execute_result"
    }
   ],
   "source": [
    "residual.simplify_full()"
   ]
  },
  {
   "cell_type": "code",
   "execution_count": 94,
   "metadata": {},
   "outputs": [
    {
     "data": {
      "text/plain": [
       "\\left(\\begin{array}{r}\n",
       "\\frac{{\\left(a_{12} a_{21}^{2} - a_{11} a_{21} a_{22} - {\\left(a_{11} - 1\\right)} a_{12} + {\\left(a_{11} - 2 \\, a_{12}\\right)} a_{21}\\right)} c f - {\\left(a_{12} a_{21}^{2} - a_{11} a_{21} a_{22} + {\\left(a_{11} - a_{12}\\right)} a_{21}\\right)} c}{a_{12} a_{21} - {\\left(a_{11} - 1\\right)} a_{22} + a_{11} - 1}\n",
       "\\end{array}\\right)"
      ]
     },
     "execution_count": 94,
     "metadata": {},
     "output_type": "execute_result"
    }
   ],
   "source": [
    "latex(residual.simplify_full())"
   ]
  },
  {
   "cell_type": "code",
   "execution_count": 95,
   "metadata": {},
   "outputs": [
    {
     "data": {
      "text/plain": [
       "\\left(\\begin{array}{r}\n",
       "-\\frac{a_{12} a_{21}^{2} - a_{11} a_{21} a_{22} + {\\left(a_{11} - a_{12}\\right)} a_{21} - {\\left(a_{12} a_{21}^{2} - a_{11} a_{21} a_{22} - {\\left(a_{11} - 1\\right)} a_{12} + {\\left(a_{11} - 2 \\, a_{12}\\right)} a_{21}\\right)} f}{a_{12} a_{21} - {\\left(a_{11} - 1\\right)} a_{22} + a_{11} - 1}\n",
       "\\end{array}\\right)"
      ]
     },
     "execution_count": 95,
     "metadata": {},
     "output_type": "execute_result"
    }
   ],
   "source": [
    "latex(residual.simplify_full().subs({c:1}))"
   ]
  },
  {
   "cell_type": "code",
   "execution_count": 96,
   "metadata": {},
   "outputs": [],
   "source": [
    "a=var('a')"
   ]
  },
  {
   "cell_type": "code",
   "execution_count": 97,
   "metadata": {},
   "outputs": [
    {
     "data": {
      "text/plain": [
       "\\left(\\begin{array}{r}\n",
       "-\\frac{a a_{21} a_{22} {\\left(f - 1\\right)} + a_{12} a_{21}^{2} - {\\left(a {\\left(f - 1\\right)} + a_{12}\\right)} a_{21} - {\\left(a a_{21} a_{22} {\\left(f - 1\\right)} + a_{12} a_{21}^{2} + {\\left(a {\\left(f - 1\\right)} + 1\\right)} a_{12} - {\\left(a {\\left(f - 1\\right)} + 2 \\, a_{12}\\right)} a_{21}\\right)} f}{a_{12} a_{21} + {\\left(a {\\left(f - 1\\right)} + 1\\right)} a_{22} - a {\\left(f - 1\\right)} - 1}\n",
       "\\end{array}\\right)"
      ]
     },
     "execution_count": 97,
     "metadata": {},
     "output_type": "execute_result"
    }
   ],
   "source": [
    "latex(residual.simplify_full().subs({c:1}).subs({a_11:(1-f)*a}))"
   ]
  },
  {
   "cell_type": "code",
   "execution_count": 98,
   "metadata": {},
   "outputs": [
    {
     "data": {
      "text/plain": [
       "\\left(\\begin{array}{r}\n",
       "-\\frac{a^{2} a_{22} {\\left(f - 1\\right)} f + a^{2} a_{12} f^{2} - {\\left(a {\\left(f - 1\\right)} + a_{12}\\right)} a f - {\\left(a^{2} a_{22} {\\left(f - 1\\right)} f + a^{2} a_{12} f^{2} - {\\left(a {\\left(f - 1\\right)} + 2 \\, a_{12}\\right)} a f + {\\left(a {\\left(f - 1\\right)} + 1\\right)} a_{12}\\right)} f}{a a_{12} f + {\\left(a {\\left(f - 1\\right)} + 1\\right)} a_{22} - a {\\left(f - 1\\right)} - 1}\n",
       "\\end{array}\\right)"
      ]
     },
     "execution_count": 98,
     "metadata": {},
     "output_type": "execute_result"
    }
   ],
   "source": [
    "latex(residual.simplify_full().subs({c:1}).subs({a_11:(1-f)*a}).subs({a_21:f*a}))"
   ]
  },
  {
   "cell_type": "code",
   "execution_count": 99,
   "metadata": {},
   "outputs": [
    {
     "data": {
      "text/plain": [
       "\\left(\\begin{array}{r}\n",
       "-\\frac{{\\left(a^{2} a_{12} + a^{2} a_{22} - a^{2}\\right)} f^{3} - {\\left(2 \\, a^{2} a_{22} - 2 \\, a^{2} + {\\left(a^{2} + a\\right)} a_{12}\\right)} f^{2} + {\\left(a^{2} a_{22} - a^{2} + a_{12}\\right)} f}{{\\left(a - 1\\right)} a_{22} - {\\left(a a_{12} + a a_{22} - a\\right)} f - a + 1}\n",
       "\\end{array}\\right)"
      ]
     },
     "execution_count": 99,
     "metadata": {},
     "output_type": "execute_result"
    }
   ],
   "source": [
    "latex(residual.subs({c:1}).subs({a_11:(1-f)*a}).subs({a_21:f*a}).simplify_full())"
   ]
  },
  {
   "cell_type": "code",
   "execution_count": 101,
   "metadata": {},
   "outputs": [],
   "source": [
    "residual_simpl=residual.subs({c:1}).subs({a_11:(1-f)*a}).subs({a_21:f*a}).simplify_full()"
   ]
  },
  {
   "cell_type": "code",
   "execution_count": 102,
   "metadata": {},
   "outputs": [
    {
     "data": {
      "text/plain": [
       "\\left(\\begin{array}{r}\n",
       "-\\frac{{\\left(a^{2} a_{12} + a^{2} a_{22} - a^{2}\\right)} f^{3} - {\\left(2 \\, a^{2} a_{22} - 2 \\, a^{2} + {\\left(a^{2} + a\\right)} a_{12}\\right)} f^{2} + {\\left(a^{2} a_{22} - a^{2} + a_{12}\\right)} f}{{\\left(a - 1\\right)} a_{22} - {\\left(a a_{12} + a a_{22} - a\\right)} f - a + 1}\n",
       "\\end{array}\\right)"
      ]
     },
     "execution_count": 102,
     "metadata": {},
     "output_type": "execute_result"
    }
   ],
   "source": [
    "latex(residual_simpl)"
   ]
  },
  {
   "cell_type": "code",
   "execution_count": 162,
   "metadata": {},
   "outputs": [
    {
     "data": {
      "text/plain": [
       "\\left(\\begin{array}{r}\n",
       "-\\frac{{\\left({\\left(a^{2} a_{12} + a^{2} a_{22} - a^{2}\\right)} f^{3} - {\\left(2 \\, a^{2} a_{22} - 2 \\, a^{2} + {\\left(a^{2} + a\\right)} a_{12}\\right)} f^{2} + {\\left(a^{2} a_{22} - a^{2} + a_{12}\\right)} f\\right)} {\\left(a a_{12} + a a_{22} - a\\right)}}{{\\left({\\left(a - 1\\right)} a_{22} - {\\left(a a_{12} + a a_{22} - a\\right)} f - a + 1\\right)}^{2}} - \\frac{a^{2} a_{22} + 3 \\, {\\left(a^{2} a_{12} + a^{2} a_{22} - a^{2}\\right)} f^{2} - a^{2} - 2 \\, {\\left(2 \\, a^{2} a_{22} - 2 \\, a^{2} + {\\left(a^{2} + a\\right)} a_{12}\\right)} f + a_{12}}{{\\left(a - 1\\right)} a_{22} - {\\left(a a_{12} + a a_{22} - a\\right)} f - a + 1}\n",
       "\\end{array}\\right)"
      ]
     },
     "execution_count": 162,
     "metadata": {},
     "output_type": "execute_result"
    }
   ],
   "source": [
    "latex(residual_simpl.derivative(f))"
   ]
  },
  {
   "cell_type": "markdown",
   "metadata": {},
   "source": [
    "# Simulation numérique"
   ]
  },
  {
   "cell_type": "markdown",
   "metadata": {},
   "source": [
    "## s"
   ]
  },
  {
   "cell_type": "code",
   "execution_count": 217,
   "metadata": {},
   "outputs": [],
   "source": [
    "s_num(f)=s.subs({c:-1}).subs({a_11:(1-f)*a}).subs({a_21:f*a}).subs({a_22:0.48}).subs({a_12:0.02}).subs({a:0.5})"
   ]
  },
  {
   "cell_type": "code",
   "execution_count": 222,
   "metadata": {},
   "outputs": [
    {
     "data": {
      "text/plain": [
       "f |--> [(0.500000000000000*f*(1/(0.500000000000000*f + 0.500000000000000) - 0.0100000000000000*f/((0.500000000000000*f + 0.500000000000000)^2*(0.0100000000000000*f/(0.500000000000000*f + 0.500000000000000) - 0.520000000000000))) + 0.0100000000000000*f/((0.500000000000000*f + 0.500000000000000)*(0.0100000000000000*f/(0.500000000000000*f + 0.500000000000000) - 0.520000000000000)))*(f - 1) + f*(0.0100000000000000*f/((0.500000000000000*f + 0.500000000000000)*(0.0100000000000000*f/(0.500000000000000*f + 0.500000000000000) - 0.520000000000000)) - 0.0200000000000000/(0.0100000000000000*f/(0.500000000000000*f + 0.500000000000000) - 0.520000000000000) - 1)]"
      ]
     },
     "execution_count": 222,
     "metadata": {},
     "output_type": "execute_result"
    }
   ],
   "source": [
    "s_num"
   ]
  },
  {
   "cell_type": "code",
   "execution_count": 211,
   "metadata": {},
   "outputs": [
    {
     "data": {
      "text/plain": [
       "(f,)"
      ]
     },
     "execution_count": 211,
     "metadata": {},
     "output_type": "execute_result"
    }
   ],
   "source": [
    "s_num.arguments()"
   ]
  },
  {
   "cell_type": "code",
   "execution_count": 212,
   "metadata": {},
   "outputs": [
    {
     "data": {
      "text/plain": [
       "()"
      ]
     },
     "execution_count": 212,
     "metadata": {},
     "output_type": "execute_result"
    }
   ],
   "source": [
    "s_num.variables()"
   ]
  },
  {
   "cell_type": "code",
   "execution_count": 224,
   "metadata": {},
   "outputs": [],
   "source": [
    "Splot=plot((0.500000000000000*f*(1/(0.500000000000000*f + 0.500000000000000) - 0.0100000000000000*f/((0.500000000000000*f + 0.500000000000000)^2*(0.0100000000000000*f/(0.500000000000000*f + 0.500000000000000) - 0.520000000000000))) + 0.0100000000000000*f/((0.500000000000000*f + 0.500000000000000)*(0.0100000000000000*f/(0.500000000000000*f + 0.500000000000000) - 0.520000000000000)))*(f - 1) + f*(0.0100000000000000*f/((0.500000000000000*f + 0.500000000000000)*(0.0100000000000000*f/(0.500000000000000*f + 0.500000000000000) - 0.520000000000000)) - 0.0200000000000000/(0.0100000000000000*f/(0.500000000000000*f + 0.500000000000000) - 0.520000000000000) - 1),(f,0,1))"
   ]
  },
  {
   "cell_type": "code",
   "execution_count": 225,
   "metadata": {},
   "outputs": [
    {
     "data": {
      "image/png": "[encoded data removed]",
      "text/plain": [
       "Graphics object consisting of 1 graphics primitive"
      ]
     },
     "execution_count": 225,
     "metadata": {},
     "output_type": "execute_result"
    }
   ],
   "source": [
    "Splot"
   ]
  },
  {
   "cell_type": "markdown",
   "metadata": {},
   "source": [
    "## E1"
   ]
  },
  {
   "cell_type": "code",
   "execution_count": 256,
   "metadata": {},
   "outputs": [],
   "source": [
    "E1plot=plot(-f, (f,0,1), legend_label='E1', color='green')"
   ]
  },
  {
   "cell_type": "code",
   "execution_count": 257,
   "metadata": {},
   "outputs": [
    {
     "data": {
      "image/png": "[encoded data removed]",
      "text/plain": [
       "Graphics object consisting of 1 graphics primitive"
      ]
     },
     "execution_count": 257,
     "metadata": {},
     "output_type": "execute_result"
    }
   ],
   "source": [
    "E1plot"
   ]
  },
  {
   "cell_type": "markdown",
   "metadata": {},
   "source": [
    "## E2"
   ]
  },
  {
   "cell_type": "code",
   "execution_count": 203,
   "metadata": {},
   "outputs": [],
   "source": [
    "E2(f)=-f*0.5*(1-f)"
   ]
  },
  {
   "cell_type": "code",
   "execution_count": 248,
   "metadata": {},
   "outputs": [],
   "source": [
    "E2plot=plot(E2(f),0,1, legend_label='E2')"
   ]
  },
  {
   "cell_type": "code",
   "execution_count": 249,
   "metadata": {},
   "outputs": [
    {
     "data": {
      "image/png": "[encoded data removed]",
      "text/plain": [
       "Graphics object consisting of 1 graphics primitive"
      ]
     },
     "execution_count": 249,
     "metadata": {},
     "output_type": "execute_result"
    }
   ],
   "source": [
    "E2plot"
   ]
  },
  {
   "cell_type": "markdown",
   "metadata": {},
   "source": [
    "## E3"
   ]
  },
  {
   "cell_type": "code",
   "execution_count": 206,
   "metadata": {},
   "outputs": [],
   "source": [
    "E3(f)=f*0.02"
   ]
  },
  {
   "cell_type": "code",
   "execution_count": 207,
   "metadata": {},
   "outputs": [
    {
     "data": {
      "text/plain": [
       "f |--> 0.0200000000000000*f"
      ]
     },
     "execution_count": 207,
     "metadata": {},
     "output_type": "execute_result"
    }
   ],
   "source": [
    "E3"
   ]
  },
  {
   "cell_type": "code",
   "execution_count": 258,
   "metadata": {},
   "outputs": [],
   "source": [
    "E3plot=plot(E3(f),0,1, legend_label='E3',color='red')"
   ]
  },
  {
   "cell_type": "code",
   "execution_count": 259,
   "metadata": {},
   "outputs": [
    {
     "data": {
      "image/png": "[encoded data removed]",
      "text/plain": [
       "Graphics object consisting of 1 graphics primitive"
      ]
     },
     "execution_count": 259,
     "metadata": {},
     "output_type": "execute_result"
    }
   ],
   "source": [
    "E3plot"
   ]
  },
  {
   "cell_type": "markdown",
   "metadata": {},
   "source": [
    "## E4"
   ]
  },
  {
   "cell_type": "code",
   "execution_count": 228,
   "metadata": {},
   "outputs": [],
   "source": [
    "E4=(Cdol*B+C*Btilde)*(I-A)^(-1)*A"
   ]
  },
  {
   "cell_type": "code",
   "execution_count": 229,
   "metadata": {},
   "outputs": [
    {
     "data": {
      "text/plain": [
       "[-(a_21*c*(1/(a_11 - 1) - a_12*a_21/((a_11 - 1)^2*(a_12*a_21/(a_11 - 1) - a_22 + 1))) - a_12*a_21*c/((a_11 - 1)*(a_12*a_21/(a_11 - 1) - a_22 + 1)))*a_11 - a_21*(a_12*c/(a_12*a_21/(a_11 - 1) - a_22 + 1) + a_12*a_21*c/((a_11 - 1)*(a_12*a_21/(a_11 - 1) - a_22 + 1))) -(a_21*c*(1/(a_11 - 1) - a_12*a_21/((a_11 - 1)^2*(a_12*a_21/(a_11 - 1) - a_22 + 1))) - a_12*a_21*c/((a_11 - 1)*(a_12*a_21/(a_11 - 1) - a_22 + 1)))*a_12 - a_22*(a_12*c/(a_12*a_21/(a_11 - 1) - a_22 + 1) + a_12*a_21*c/((a_11 - 1)*(a_12*a_21/(a_11 - 1) - a_22 + 1)))]"
      ]
     },
     "execution_count": 229,
     "metadata": {},
     "output_type": "execute_result"
    }
   ],
   "source": [
    "E4"
   ]
  },
  {
   "cell_type": "code",
   "execution_count": 230,
   "metadata": {},
   "outputs": [],
   "source": [
    "E4HC=E4*d"
   ]
  },
  {
   "cell_type": "code",
   "execution_count": 231,
   "metadata": {},
   "outputs": [
    {
     "data": {
      "text/plain": [
       "[((a_21*c*(1/(a_11 - 1) - a_12*a_21/((a_11 - 1)^2*(a_12*a_21/(a_11 - 1) - a_22 + 1))) - a_12*a_21*c/((a_11 - 1)*(a_12*a_21/(a_11 - 1) - a_22 + 1)))*a_11 + a_21*(a_12*c/(a_12*a_21/(a_11 - 1) - a_22 + 1) + a_12*a_21*c/((a_11 - 1)*(a_12*a_21/(a_11 - 1) - a_22 + 1))))*(f - 1) - ((a_21*c*(1/(a_11 - 1) - a_12*a_21/((a_11 - 1)^2*(a_12*a_21/(a_11 - 1) - a_22 + 1))) - a_12*a_21*c/((a_11 - 1)*(a_12*a_21/(a_11 - 1) - a_22 + 1)))*a_12 + a_22*(a_12*c/(a_12*a_21/(a_11 - 1) - a_22 + 1) + a_12*a_21*c/((a_11 - 1)*(a_12*a_21/(a_11 - 1) - a_22 + 1))))*f]"
      ]
     },
     "execution_count": 231,
     "metadata": {},
     "output_type": "execute_result"
    }
   ],
   "source": [
    "E4HC"
   ]
  },
  {
   "cell_type": "code",
   "execution_count": 232,
   "metadata": {},
   "outputs": [],
   "source": [
    "E4HC_num(f)=E4HC.subs({c:-1}).subs({a_11:(1-f)*a}).subs({a_21:f*a}).subs({a_22:0.48}).subs({a_12:0.02}).subs({a:0.5})"
   ]
  },
  {
   "cell_type": "code",
   "execution_count": 233,
   "metadata": {},
   "outputs": [
    {
     "data": {
      "text/plain": [
       "f |--> [-(0.500000000000000*(0.500000000000000*f*(1/(0.500000000000000*f + 0.500000000000000) - 0.0100000000000000*f/((0.500000000000000*f + 0.500000000000000)^2*(0.0100000000000000*f/(0.500000000000000*f + 0.500000000000000) - 0.520000000000000))) + 0.0100000000000000*f/((0.500000000000000*f + 0.500000000000000)*(0.0100000000000000*f/(0.500000000000000*f + 0.500000000000000) - 0.520000000000000)))*(f - 1) + 0.500000000000000*f*(0.0100000000000000*f/((0.500000000000000*f + 0.500000000000000)*(0.0100000000000000*f/(0.500000000000000*f + 0.500000000000000) - 0.520000000000000)) - 0.0200000000000000/(0.0100000000000000*f/(0.500000000000000*f + 0.500000000000000) - 0.520000000000000)))*(f - 1) + (-0.0100000000000000*f*(1/(0.500000000000000*f + 0.500000000000000) - 0.0100000000000000*f/((0.500000000000000*f + 0.500000000000000)^2*(0.0100000000000000*f/(0.500000000000000*f + 0.500000000000000) - 0.520000000000000))) + 0.00460000000000000*f/((0.500000000000000*f + 0.500000000000000)*(0.0100000000000000*f/(0.500000000000000*f + 0.500000000000000) - 0.520000000000000)) - 0.00960000000000000/(0.0100000000000000*f/(0.500000000000000*f + 0.500000000000000) - 0.520000000000000))*f]"
      ]
     },
     "execution_count": 233,
     "metadata": {},
     "output_type": "execute_result"
    }
   ],
   "source": [
    "E4HC_num"
   ]
  },
  {
   "cell_type": "code",
   "execution_count": 260,
   "metadata": {},
   "outputs": [],
   "source": [
    "E4plot=plot(-(0.500000000000000*(0.500000000000000*f*(1/(0.500000000000000*f + 0.500000000000000) - 0.0100000000000000*f/((0.500000000000000*f + 0.500000000000000)^2*(0.0100000000000000*f/(0.500000000000000*f + 0.500000000000000) - 0.520000000000000))) + 0.0100000000000000*f/((0.500000000000000*f + 0.500000000000000)*(0.0100000000000000*f/(0.500000000000000*f + 0.500000000000000) - 0.520000000000000)))*(f - 1) + 0.500000000000000*f*(0.0100000000000000*f/((0.500000000000000*f + 0.500000000000000)*(0.0100000000000000*f/(0.500000000000000*f + 0.500000000000000) - 0.520000000000000)) - 0.0200000000000000/(0.0100000000000000*f/(0.500000000000000*f + 0.500000000000000) - 0.520000000000000)))*(f - 1) + (-0.0100000000000000*f*(1/(0.500000000000000*f + 0.500000000000000) - 0.0100000000000000*f/((0.500000000000000*f + 0.500000000000000)^2*(0.0100000000000000*f/(0.500000000000000*f + 0.500000000000000) - 0.520000000000000))) + 0.00460000000000000*f/((0.500000000000000*f + 0.500000000000000)*(0.0100000000000000*f/(0.500000000000000*f + 0.500000000000000) - 0.520000000000000)) - 0.00960000000000000/(0.0100000000000000*f/(0.500000000000000*f + 0.500000000000000) - 0.520000000000000))*f,0,1, legend_label='E4', color='black')"
   ]
  },
  {
   "cell_type": "code",
   "execution_count": 261,
   "metadata": {},
   "outputs": [
    {
     "data": {
      "image/png": "[encoded data removed]",
      "text/plain": [
       "Graphics object consisting of 1 graphics primitive"
      ]
     },
     "execution_count": 261,
     "metadata": {},
     "output_type": "execute_result"
    }
   ],
   "source": [
    "E4plot"
   ]
  },
  {
   "cell_type": "code",
   "execution_count": 106,
   "metadata": {},
   "outputs": [],
   "source": [
    "residual_num=residual_simpl.subs({a_22:0.48}).subs({a_12:0.02}).subs({a:0.5})"
   ]
  },
  {
   "cell_type": "code",
   "execution_count": null,
   "metadata": {},
   "outputs": [],
   "source": []
  },
  {
   "cell_type": "code",
   "execution_count": null,
   "metadata": {},
   "outputs": [],
   "source": []
  },
  {
   "cell_type": "code",
   "execution_count": 115,
   "metadata": {},
   "outputs": [],
   "source": [
    "residual_num=residual_simpl.subs({a_22:0.48}).subs({a_12:0.02}).subs({a:0.5})(skip_zeroes=True)"
   ]
  },
  {
   "cell_type": "code",
   "execution_count": 116,
   "metadata": {},
   "outputs": [
    {
     "data": {
      "text/plain": [
       "[(-0.125000000000000*f^3 + 0.245000000000000*f^2 - 0.110000000000000*f)/(-0.250000000000000*f - 0.260000000000000)]"
      ]
     },
     "execution_count": 116,
     "metadata": {},
     "output_type": "execute_result"
    }
   ],
   "source": [
    "residual_num"
   ]
  },
  {
   "cell_type": "code",
   "execution_count": 122,
   "metadata": {},
   "outputs": [
    {
     "data": {
      "text/plain": [
       "\\left(\\begin{array}{r}\n",
       "\\frac{-0.125000000000000 \\, f^{3} + 0.245000000000000 \\, f^{2} - 0.110000000000000 \\, f}{-0.250000000000000 \\, f - 0.260000000000000}\n",
       "\\end{array}\\right)"
      ]
     },
     "execution_count": 122,
     "metadata": {},
     "output_type": "execute_result"
    }
   ],
   "source": [
    "latex(residual_num(digits=3))"
   ]
  },
  {
   "cell_type": "code",
   "execution_count": 131,
   "metadata": {},
   "outputs": [],
   "source": [
    "residual_num(f)=residual_num"
   ]
  },
  {
   "cell_type": "code",
   "execution_count": 136,
   "metadata": {},
   "outputs": [
    {
     "data": {
      "text/plain": [
       "<type 'sage.symbolic.expression.Expression'>"
      ]
     },
     "execution_count": 136,
     "metadata": {},
     "output_type": "execute_result"
    }
   ],
   "source": [
    "type(residual_num(f))"
   ]
  },
  {
   "cell_type": "code",
   "execution_count": 138,
   "metadata": {},
   "outputs": [
    {
     "data": {
      "text/plain": [
       "[(-0.125000000000000*f^3 + 0.245000000000000*f^2 - 0.110000000000000*f)/(-0.250000000000000*f - 0.260000000000000)]"
      ]
     },
     "execution_count": 138,
     "metadata": {},
     "output_type": "execute_result"
    }
   ],
   "source": [
    "residual_num(f)"
   ]
  },
  {
   "cell_type": "code",
   "execution_count": 139,
   "metadata": {},
   "outputs": [],
   "source": [
    "g(x)=x^2"
   ]
  },
  {
   "cell_type": "code",
   "execution_count": 146,
   "metadata": {},
   "outputs": [
    {
     "data": {
      "text/plain": [
       "x |--> x^2"
      ]
     },
     "execution_count": 146,
     "metadata": {},
     "output_type": "execute_result"
    }
   ],
   "source": [
    "g"
   ]
  },
  {
   "cell_type": "code",
   "execution_count": 142,
   "metadata": {},
   "outputs": [
    {
     "data": {
      "text/plain": [
       "f |--> [(-0.125000000000000*f^3 + 0.245000000000000*f^2 - 0.110000000000000*f)/(-0.250000000000000*f - 0.260000000000000)]"
      ]
     },
     "execution_count": 142,
     "metadata": {},
     "output_type": "execute_result"
    }
   ],
   "source": [
    "residual_num"
   ]
  },
  {
   "cell_type": "code",
   "execution_count": 152,
   "metadata": {},
   "outputs": [
    {
     "data": {
      "text/plain": [
       "(f,)"
      ]
     },
     "execution_count": 152,
     "metadata": {},
     "output_type": "execute_result"
    }
   ],
   "source": [
    "residual_num.arguments()"
   ]
  },
  {
   "cell_type": "code",
   "execution_count": 154,
   "metadata": {},
   "outputs": [
    {
     "data": {
      "text/plain": [
       "0"
      ]
     },
     "execution_count": 154,
     "metadata": {},
     "output_type": "execute_result"
    }
   ],
   "source": [
    "residual_num(f).derivative()"
   ]
  },
  {
   "cell_type": "code",
   "execution_count": 156,
   "metadata": {
    "scrolled": true
   },
   "outputs": [
    {
     "ename": "TypeError",
     "evalue": "mutable matrices are unhashable",
     "output_type": "error",
     "traceback": [
      "\u001b[0;31m---------------------------------------------------------------------------\u001b[0m",
      "\u001b[0;31mTypeError\u001b[0m                                 Traceback (most recent call last)",
      "\u001b[0;32m<ipython-input-156-9f4d09933d12>\u001b[0m in \u001b[0;36m<module>\u001b[0;34m()\u001b[0m\n\u001b[0;32m----> 1\u001b[0;31m \u001b[0mplot\u001b[0m\u001b[0;34m(\u001b[0m\u001b[0mresidual_num\u001b[0m\u001b[0;34m(\u001b[0m\u001b[0mf\u001b[0m\u001b[0;34m)\u001b[0m\u001b[0;34m,\u001b[0m\u001b[0;34m(\u001b[0m\u001b[0mf\u001b[0m\u001b[0;34m,\u001b[0m\u001b[0mInteger\u001b[0m\u001b[0;34m(\u001b[0m\u001b[0;36m0\u001b[0m\u001b[0;34m)\u001b[0m\u001b[0;34m,\u001b[0m\u001b[0mInteger\u001b[0m\u001b[0;34m(\u001b[0m\u001b[0;36m1\u001b[0m\u001b[0;34m)\u001b[0m\u001b[0;34m)\u001b[0m\u001b[0;34m)\u001b[0m\u001b[0;34m\u001b[0m\u001b[0m\n\u001b[0m",
      "\u001b[0;32m/Applications/SageMath-8.4.app/Contents/Resources/sage/local/lib/python2.7/site-packages/sage/misc/decorators.pyc\u001b[0m in \u001b[0;36mwrapper\u001b[0;34m(*args, **kwds)\u001b[0m\n\u001b[1;32m    565\u001b[0m                 \u001b[0moptions\u001b[0m\u001b[0;34m[\u001b[0m\u001b[0;34m'__original_opts'\u001b[0m\u001b[0;34m]\u001b[0m \u001b[0;34m=\u001b[0m \u001b[0mkwds\u001b[0m\u001b[0;34m\u001b[0m\u001b[0m\n\u001b[1;32m    566\u001b[0m             \u001b[0moptions\u001b[0m\u001b[0;34m.\u001b[0m\u001b[0mupdate\u001b[0m\u001b[0;34m(\u001b[0m\u001b[0mkwds\u001b[0m\u001b[0;34m)\u001b[0m\u001b[0;34m\u001b[0m\u001b[0m\n\u001b[0;32m--> 567\u001b[0;31m             \u001b[0;32mreturn\u001b[0m \u001b[0mfunc\u001b[0m\u001b[0;34m(\u001b[0m\u001b[0;34m*\u001b[0m\u001b[0margs\u001b[0m\u001b[0;34m,\u001b[0m \u001b[0;34m**\u001b[0m\u001b[0moptions\u001b[0m\u001b[0;34m)\u001b[0m\u001b[0;34m\u001b[0m\u001b[0m\n\u001b[0m\u001b[1;32m    568\u001b[0m \u001b[0;34m\u001b[0m\u001b[0m\n\u001b[1;32m    569\u001b[0m         \u001b[0;31m#Add the options specified by @options to the signature of the wrapped\u001b[0m\u001b[0;34m\u001b[0m\u001b[0;34m\u001b[0m\u001b[0m\n",
      "\u001b[0;32m/Applications/SageMath-8.4.app/Contents/Resources/sage/local/lib/python2.7/site-packages/sage/plot/plot.pyc\u001b[0m in \u001b[0;36mplot\u001b[0;34m(funcs, *args, **kwds)\u001b[0m\n\u001b[1;32m   1939\u001b[0m \u001b[0;34m\u001b[0m\u001b[0m\n\u001b[1;32m   1940\u001b[0m     \u001b[0;32mif\u001b[0m \u001b[0mhasattr\u001b[0m\u001b[0;34m(\u001b[0m\u001b[0mfuncs\u001b[0m\u001b[0;34m,\u001b[0m \u001b[0;34m'plot'\u001b[0m\u001b[0;34m)\u001b[0m\u001b[0;34m:\u001b[0m\u001b[0;34m\u001b[0m\u001b[0m\n\u001b[0;32m-> 1941\u001b[0;31m         \u001b[0mG\u001b[0m \u001b[0;34m=\u001b[0m \u001b[0mfuncs\u001b[0m\u001b[0;34m.\u001b[0m\u001b[0mplot\u001b[0m\u001b[0;34m(\u001b[0m\u001b[0;34m*\u001b[0m\u001b[0margs\u001b[0m\u001b[0;34m,\u001b[0m \u001b[0;34m**\u001b[0m\u001b[0moriginal_opts\u001b[0m\u001b[0;34m)\u001b[0m\u001b[0;34m\u001b[0m\u001b[0m\n\u001b[0m\u001b[1;32m   1942\u001b[0m \u001b[0;34m\u001b[0m\u001b[0m\n\u001b[1;32m   1943\u001b[0m         \u001b[0;31m# If we have extra keywords already set, then update them\u001b[0m\u001b[0;34m\u001b[0m\u001b[0;34m\u001b[0m\u001b[0m\n",
      "\u001b[0;32m/Applications/SageMath-8.4.app/Contents/Resources/sage/local/lib/python2.7/site-packages/sage/symbolic/expression.pyx\u001b[0m in \u001b[0;36msage.symbolic.expression.Expression.plot (build/cythonized/sage/symbolic/expression.cpp:67902)\u001b[0;34m()\u001b[0m\n\u001b[1;32m  12053\u001b[0m                     \u001b[0;31m#aren't explicitly given\u001b[0m\u001b[0;34m\u001b[0m\u001b[0;34m\u001b[0m\u001b[0m\n\u001b[1;32m  12054\u001b[0m                     \u001b[0mn\u001b[0m \u001b[0;34m=\u001b[0m \u001b[0mself\u001b[0m\u001b[0;34m.\u001b[0m\u001b[0mnumber_of_arguments\u001b[0m\u001b[0;34m(\u001b[0m\u001b[0;34m)\u001b[0m\u001b[0;34m\u001b[0m\u001b[0m\n\u001b[0;32m> 12055\u001b[0;31m                     \u001b[0mf\u001b[0m \u001b[0;34m=\u001b[0m \u001b[0mself\u001b[0m\u001b[0;34m.\u001b[0m\u001b[0m_plot_fast_callable\u001b[0m\u001b[0;34m(\u001b[0m\u001b[0;34m)\u001b[0m\u001b[0;34m\u001b[0m\u001b[0m\n\u001b[0m\u001b[1;32m  12056\u001b[0m                 \u001b[0;32melse\u001b[0m\u001b[0;34m:\u001b[0m\u001b[0;34m\u001b[0m\u001b[0m\n\u001b[1;32m  12057\u001b[0m                     \u001b[0mparam\u001b[0m \u001b[0;34m=\u001b[0m \u001b[0mA\u001b[0m\u001b[0;34m[\u001b[0m\u001b[0;36m0\u001b[0m\u001b[0;34m]\u001b[0m\u001b[0;34m\u001b[0m\u001b[0m\n",
      "\u001b[0;32m/Applications/SageMath-8.4.app/Contents/Resources/sage/local/lib/python2.7/site-packages/sage/symbolic/expression.pyx\u001b[0m in \u001b[0;36msage.symbolic.expression.Expression._plot_fast_callable (build/cythonized/sage/symbolic/expression.cpp:68463)\u001b[0;34m()\u001b[0m\n\u001b[1;32m  12103\u001b[0m         \"\"\"\n\u001b[1;32m  12104\u001b[0m         \u001b[0;32mfrom\u001b[0m \u001b[0msage\u001b[0m\u001b[0;34m.\u001b[0m\u001b[0mext\u001b[0m\u001b[0;34m.\u001b[0m\u001b[0mfast_callable\u001b[0m \u001b[0;32mimport\u001b[0m \u001b[0mfast_callable\u001b[0m\u001b[0;34m\u001b[0m\u001b[0m\n\u001b[0;32m> 12105\u001b[0;31m         \u001b[0;32mreturn\u001b[0m \u001b[0mfast_callable\u001b[0m\u001b[0;34m(\u001b[0m\u001b[0mself\u001b[0m\u001b[0;34m,\u001b[0m \u001b[0mvars\u001b[0m\u001b[0;34m=\u001b[0m\u001b[0mvars\u001b[0m\u001b[0;34m,\u001b[0m \u001b[0mexpect_one_var\u001b[0m\u001b[0;34m=\u001b[0m\u001b[0mTrue\u001b[0m\u001b[0;34m)\u001b[0m\u001b[0;34m\u001b[0m\u001b[0m\n\u001b[0m\u001b[1;32m  12106\u001b[0m \u001b[0;34m\u001b[0m\u001b[0m\n\u001b[1;32m  12107\u001b[0m     \u001b[0;31m############\u001b[0m\u001b[0;34m\u001b[0m\u001b[0;34m\u001b[0m\u001b[0m\n",
      "\u001b[0;32m/Applications/SageMath-8.4.app/Contents/Resources/sage/local/lib/python2.7/site-packages/sage/ext/fast_callable.pyx\u001b[0m in \u001b[0;36msage.ext.fast_callable.fast_callable (build/cythonized/sage/ext/fast_callable.c:5563)\u001b[0;34m()\u001b[0m\n\u001b[1;32m    533\u001b[0m                                 \u001b[0mlen\u001b[0m\u001b[0;34m(\u001b[0m\u001b[0mvars\u001b[0m\u001b[0;34m)\u001b[0m\u001b[0;34m,\u001b[0m\u001b[0;34m\u001b[0m\u001b[0m\n\u001b[1;32m    534\u001b[0m                                 domain)\n\u001b[0;32m--> 535\u001b[0;31m     \u001b[0mgenerate_code\u001b[0m\u001b[0;34m(\u001b[0m\u001b[0met\u001b[0m\u001b[0;34m,\u001b[0m \u001b[0mstr\u001b[0m\u001b[0;34m)\u001b[0m\u001b[0;34m\u001b[0m\u001b[0m\n\u001b[0m\u001b[1;32m    536\u001b[0m     \u001b[0mstr\u001b[0m\u001b[0;34m.\u001b[0m\u001b[0minstr\u001b[0m\u001b[0;34m(\u001b[0m\u001b[0;34m'return'\u001b[0m\u001b[0;34m)\u001b[0m\u001b[0;34m\u001b[0m\u001b[0m\n\u001b[1;32m    537\u001b[0m     \u001b[0;32mreturn\u001b[0m \u001b[0mbuilder\u001b[0m\u001b[0;34m(\u001b[0m\u001b[0mstr\u001b[0m\u001b[0;34m.\u001b[0m\u001b[0mget_current\u001b[0m\u001b[0;34m(\u001b[0m\u001b[0;34m)\u001b[0m\u001b[0;34m)\u001b[0m\u001b[0;34m\u001b[0m\u001b[0m\n",
      "\u001b[0;32m/Applications/SageMath-8.4.app/Contents/Resources/sage/local/lib/python2.7/site-packages/sage/ext/fast_callable.pyx\u001b[0m in \u001b[0;36msage.ext.fast_callable.generate_code (build/cythonized/sage/ext/fast_callable.c:12575)\u001b[0;34m()\u001b[0m\n\u001b[1;32m   1918\u001b[0m         \u001b[0;32mif\u001b[0m \u001b[0misinstance\u001b[0m\u001b[0;34m(\u001b[0m\u001b[0mexpr\u001b[0m\u001b[0;34m,\u001b[0m \u001b[0mExpressionConstant\u001b[0m\u001b[0;34m)\u001b[0m\u001b[0;34m:\u001b[0m\u001b[0;34m\u001b[0m\u001b[0m\n\u001b[1;32m   1919\u001b[0m             \u001b[0meconst\u001b[0m \u001b[0;34m=\u001b[0m \u001b[0mexpr\u001b[0m\u001b[0;34m\u001b[0m\u001b[0m\n\u001b[0;32m-> 1920\u001b[0;31m             \u001b[0mstream\u001b[0m\u001b[0;34m.\u001b[0m\u001b[0mload_const\u001b[0m\u001b[0;34m(\u001b[0m\u001b[0meconst\u001b[0m\u001b[0;34m.\u001b[0m\u001b[0m_value\u001b[0m\u001b[0;34m)\u001b[0m\u001b[0;34m\u001b[0m\u001b[0m\n\u001b[0m\u001b[1;32m   1921\u001b[0m         \u001b[0;32melif\u001b[0m \u001b[0misinstance\u001b[0m\u001b[0;34m(\u001b[0m\u001b[0mexpr\u001b[0m\u001b[0;34m,\u001b[0m \u001b[0mExpressionVariable\u001b[0m\u001b[0;34m)\u001b[0m\u001b[0;34m:\u001b[0m\u001b[0;34m\u001b[0m\u001b[0m\n\u001b[1;32m   1922\u001b[0m             \u001b[0mevar\u001b[0m \u001b[0;34m=\u001b[0m \u001b[0mexpr\u001b[0m\u001b[0;34m\u001b[0m\u001b[0m\n",
      "\u001b[0;32m/Applications/SageMath-8.4.app/Contents/Resources/sage/local/lib/python2.7/site-packages/sage/ext/fast_callable.pyx\u001b[0m in \u001b[0;36msage.ext.fast_callable.InstructionStream.load_const (build/cythonized/sage/ext/fast_callable.c:14026)\u001b[0;34m()\u001b[0m\n\u001b[1;32m   2064\u001b[0m             \u001b[0;34m[\u001b[0m\u001b[0;36m5\u001b[0m\u001b[0;34m,\u001b[0m \u001b[0;36m7\u001b[0m\u001b[0;34m]\u001b[0m\u001b[0;34m\u001b[0m\u001b[0m\n\u001b[1;32m   2065\u001b[0m         \"\"\"\n\u001b[0;32m-> 2066\u001b[0;31m         \u001b[0mself\u001b[0m\u001b[0;34m.\u001b[0m\u001b[0minstr\u001b[0m\u001b[0;34m(\u001b[0m\u001b[0;34m'load_const'\u001b[0m\u001b[0;34m,\u001b[0m \u001b[0mc\u001b[0m\u001b[0;34m)\u001b[0m\u001b[0;34m\u001b[0m\u001b[0m\n\u001b[0m\u001b[1;32m   2067\u001b[0m \u001b[0;34m\u001b[0m\u001b[0m\n\u001b[1;32m   2068\u001b[0m     \u001b[0;32mdef\u001b[0m \u001b[0mload_arg\u001b[0m\u001b[0;34m(\u001b[0m\u001b[0mself\u001b[0m\u001b[0;34m,\u001b[0m \u001b[0mn\u001b[0m\u001b[0;34m)\u001b[0m\u001b[0;34m:\u001b[0m\u001b[0;34m\u001b[0m\u001b[0m\n",
      "\u001b[0;32m/Applications/SageMath-8.4.app/Contents/Resources/sage/local/lib/python2.7/site-packages/sage/ext/fast_callable.pyx\u001b[0m in \u001b[0;36msage.ext.fast_callable.InstructionStream.instr (build/cythonized/sage/ext/fast_callable.c:14408)\u001b[0;34m()\u001b[0m\n\u001b[1;32m   2129\u001b[0m             \u001b[0;34m[\u001b[0m\u001b[0;34m(\u001b[0m\u001b[0;34m'load_arg'\u001b[0m\u001b[0;34m,\u001b[0m \u001b[0;36m0\u001b[0m\u001b[0;34m)\u001b[0m\u001b[0;34m,\u001b[0m \u001b[0;34m'sin'\u001b[0m\u001b[0;34m,\u001b[0m \u001b[0;34m(\u001b[0m\u001b[0;34m'py_call'\u001b[0m\u001b[0;34m,\u001b[0m \u001b[0;34m<\u001b[0m\u001b[0mbuilt\u001b[0m\u001b[0;34m-\u001b[0m\u001b[0;32min\u001b[0m \u001b[0mfunction\u001b[0m \u001b[0msin\u001b[0m\u001b[0;34m>\u001b[0m\u001b[0;34m,\u001b[0m \u001b[0;36m1\u001b[0m\u001b[0;34m)\u001b[0m\u001b[0;34m,\u001b[0m \u001b[0;34m'abs'\u001b[0m\u001b[0;34m,\u001b[0m \u001b[0;34m'return'\u001b[0m\u001b[0;34m]\u001b[0m\u001b[0;34m\u001b[0m\u001b[0m\n\u001b[1;32m   2130\u001b[0m         \"\"\"\n\u001b[0;32m-> 2131\u001b[0;31m         \u001b[0mself\u001b[0m\u001b[0;34m.\u001b[0m\u001b[0minstr0\u001b[0m\u001b[0;34m(\u001b[0m\u001b[0mopname\u001b[0m\u001b[0;34m,\u001b[0m \u001b[0margs\u001b[0m\u001b[0;34m)\u001b[0m\u001b[0;34m\u001b[0m\u001b[0m\n\u001b[0m\u001b[1;32m   2132\u001b[0m \u001b[0;34m\u001b[0m\u001b[0m\n\u001b[1;32m   2133\u001b[0m     \u001b[0mcdef\u001b[0m \u001b[0minstr0\u001b[0m\u001b[0;34m(\u001b[0m\u001b[0mself\u001b[0m\u001b[0;34m,\u001b[0m \u001b[0mopname\u001b[0m\u001b[0;34m,\u001b[0m \u001b[0mtuple\u001b[0m \u001b[0margs\u001b[0m\u001b[0;34m)\u001b[0m\u001b[0;34m:\u001b[0m\u001b[0;34m\u001b[0m\u001b[0m\n",
      "\u001b[0;32m/Applications/SageMath-8.4.app/Contents/Resources/sage/local/lib/python2.7/site-packages/sage/ext/fast_callable.pyx\u001b[0m in \u001b[0;36msage.ext.fast_callable.InstructionStream.instr0 (build/cythonized/sage/ext/fast_callable.c:14660)\u001b[0;34m()\u001b[0m\n\u001b[1;32m   2149\u001b[0m                 \u001b[0;31m# (doesn't handle signed 0, NaN)\u001b[0m\u001b[0;34m\u001b[0m\u001b[0;34m\u001b[0m\u001b[0m\n\u001b[1;32m   2150\u001b[0m                 \u001b[0marg\u001b[0m \u001b[0;34m=\u001b[0m \u001b[0margs\u001b[0m\u001b[0;34m[\u001b[0m\u001b[0mi\u001b[0m\u001b[0;34m]\u001b[0m\u001b[0;34m\u001b[0m\u001b[0m\n\u001b[0;32m-> 2151\u001b[0;31m                 \u001b[0;32mif\u001b[0m \u001b[0;34m(\u001b[0m\u001b[0marg\u001b[0m\u001b[0;34m,\u001b[0m\u001b[0mparent\u001b[0m\u001b[0;34m(\u001b[0m\u001b[0marg\u001b[0m\u001b[0;34m)\u001b[0m\u001b[0;34m)\u001b[0m \u001b[0;32min\u001b[0m \u001b[0mself\u001b[0m\u001b[0;34m.\u001b[0m\u001b[0m_constant_locs\u001b[0m\u001b[0;34m:\u001b[0m\u001b[0;34m\u001b[0m\u001b[0m\n\u001b[0m\u001b[1;32m   2152\u001b[0m                     \u001b[0mself\u001b[0m\u001b[0;34m.\u001b[0m\u001b[0m_bytecode\u001b[0m\u001b[0;34m.\u001b[0m\u001b[0mappend\u001b[0m\u001b[0;34m(\u001b[0m\u001b[0mself\u001b[0m\u001b[0;34m.\u001b[0m\u001b[0m_constant_locs\u001b[0m\u001b[0;34m[\u001b[0m\u001b[0;34m(\u001b[0m\u001b[0marg\u001b[0m\u001b[0;34m,\u001b[0m\u001b[0mparent\u001b[0m\u001b[0;34m(\u001b[0m\u001b[0marg\u001b[0m\u001b[0;34m)\u001b[0m\u001b[0;34m)\u001b[0m\u001b[0;34m]\u001b[0m\u001b[0;34m)\u001b[0m\u001b[0;34m\u001b[0m\u001b[0m\n\u001b[1;32m   2153\u001b[0m                 \u001b[0;32melse\u001b[0m\u001b[0;34m:\u001b[0m\u001b[0;34m\u001b[0m\u001b[0m\n",
      "\u001b[0;32m/Applications/SageMath-8.4.app/Contents/Resources/sage/local/lib/python2.7/site-packages/sage/matrix/matrix0.pyx\u001b[0m in \u001b[0;36msage.matrix.matrix0.Matrix.__hash__ (build/cythonized/sage/matrix/matrix0.c:38259)\u001b[0;34m()\u001b[0m\n\u001b[1;32m   5451\u001b[0m         \"\"\"\n\u001b[1;32m   5452\u001b[0m         \u001b[0;32mif\u001b[0m \u001b[0;32mnot\u001b[0m \u001b[0mself\u001b[0m\u001b[0;34m.\u001b[0m\u001b[0m_is_immutable\u001b[0m\u001b[0;34m:\u001b[0m\u001b[0;34m\u001b[0m\u001b[0m\n\u001b[0;32m-> 5453\u001b[0;31m             \u001b[0;32mraise\u001b[0m \u001b[0mTypeError\u001b[0m\u001b[0;34m(\u001b[0m\u001b[0;34m\"mutable matrices are unhashable\"\u001b[0m\u001b[0;34m)\u001b[0m\u001b[0;34m\u001b[0m\u001b[0m\n\u001b[0m\u001b[1;32m   5454\u001b[0m         \u001b[0;32mif\u001b[0m \u001b[0mself\u001b[0m\u001b[0;34m.\u001b[0m\u001b[0mhash\u001b[0m \u001b[0;34m!=\u001b[0m \u001b[0;34m-\u001b[0m\u001b[0;36m1\u001b[0m\u001b[0;34m:\u001b[0m\u001b[0;34m\u001b[0m\u001b[0m\n\u001b[1;32m   5455\u001b[0m             \u001b[0;32mreturn\u001b[0m \u001b[0mself\u001b[0m\u001b[0;34m.\u001b[0m\u001b[0mhash\u001b[0m\u001b[0;34m\u001b[0m\u001b[0m\n",
      "\u001b[0;31mTypeError\u001b[0m: mutable matrices are unhashable"
     ]
    }
   ],
   "source": [
    "plot(residual_num(f),(f,0,1))"
   ]
  },
  {
   "cell_type": "code",
   "execution_count": null,
   "metadata": {},
   "outputs": [],
   "source": []
  },
  {
   "cell_type": "code",
   "execution_count": 265,
   "metadata": {},
   "outputs": [],
   "source": [
    "residplot=plot(-(-0.125*f^3 + 0.245*f^2 - 0.11*f)/(-0.25*f - 0.26),(f,0,1),legend_label='resid',linestyle='dashed')"
   ]
  },
  {
   "cell_type": "code",
   "execution_count": 266,
   "metadata": {},
   "outputs": [
    {
     "data": {
      "image/png": "[encoded data removed]",
      "text/plain": [
       "Graphics object consisting of 1 graphics primitive"
      ]
     },
     "execution_count": 266,
     "metadata": {},
     "output_type": "execute_result"
    }
   ],
   "source": [
    "residplot"
   ]
  },
  {
   "cell_type": "code",
   "execution_count": 267,
   "metadata": {},
   "outputs": [
    {
     "data": {
      "image/png": "[encoded data removed]",
      "text/plain": [
       "Graphics object consisting of 5 graphics primitives"
      ]
     },
     "metadata": {},
     "output_type": "display_data"
    }
   ],
   "source": [
    "show(E1plot+E2plot+E3plot+E4plot+residplot)"
   ]
  },
  {
   "cell_type": "code",
   "execution_count": null,
   "metadata": {},
   "outputs": [],
   "source": []
  },
  {
   "cell_type": "code",
   "execution_count": 130,
   "metadata": {},
   "outputs": [
    {
     "data": {
      "text/plain": [
       "<type 'sage.matrix.matrix_symbolic_dense.Matrix_symbolic_dense'>"
      ]
     },
     "execution_count": 130,
     "metadata": {},
     "output_type": "execute_result"
    }
   ],
   "source": [
    "type(residual_num)"
   ]
  },
  {
   "cell_type": "code",
   "execution_count": 78,
   "metadata": {},
   "outputs": [
    {
     "data": {
      "text/plain": []
     },
     "execution_count": 78,
     "metadata": {},
     "output_type": "execute_result"
    }
   ],
   "source": [
    "residual = ((a_12*a_21^2 - a_11*a_21*a_22 - (a_11 - 1)*a_12 + (a_11 -2*a_12)*a_21)*c*f - (a_12*a_21^2 - a_11*a_21*a_22 + (a_11 -a_12)*a_21)*c)/(a_12*a_21 - (a_11 - 1)*a_22 + a_11 - 1)"
   ]
  },
  {
   "cell_type": "code",
   "execution_count": 81,
   "metadata": {},
   "outputs": [
    {
     "data": {
      "text/plain": [
       "((a^2*a_22*(f - 1)*f + a^2*a_12*f^2 - (a*(f - 1) + 2*a_12)*a*f + (a*(f - 1) + 1)*a_12)*c*f - (a^2*a_22*(f - 1)*f + a^2*a_12*f^2 - (a*(f - 1) + a_12)*a*f)*c)/(a*a_12*f + (a*(f - 1) + 1)*a_22 - a*(f - 1) - 1)"
      ]
     },
     "execution_count": 81,
     "metadata": {},
     "output_type": "execute_result"
    }
   ],
   "source": [
    "residual"
   ]
  },
  {
   "cell_type": "code",
   "execution_count": 82,
   "metadata": {},
   "outputs": [
    {
     "data": {
      "text/plain": [
       "((a^2*a_22*(f - 1)*f + a^2*a_12*f^2 - (a*(f - 1) + 2*a_12)*a*f + (a*(f - 1) + 1)*a_12)*c*f - (a^2*a_22*(f - 1)*f + a^2*a_12*f^2 - (a*(f - 1) + a_12)*a*f)*c)/(a*a_12*f + (a*(f - 1) + 1)*a_22 - a*f + a - 1)"
      ]
     },
     "execution_count": 82,
     "metadata": {},
     "output_type": "execute_result"
    }
   ],
   "source": [
    "residual.subs({a_11:a-a*f})"
   ]
  },
  {
   "cell_type": "code",
   "execution_count": 83,
   "metadata": {},
   "outputs": [
    {
     "data": {
      "text/plain": [
       "(a^3*c*f^4 - (a^3 - a^2*a_22 + 2*a^2)*c*f^3 - (2*a^2*a_22 - 2*a^2 - a)*c*f^2 + (a^2*a_22 - a^2)*c*f)/(a^2*f^2 - (a - 1)*a_22 + (a*a_22 - a)*f + a - 1)"
      ]
     },
     "execution_count": 83,
     "metadata": {},
     "output_type": "execute_result"
    }
   ],
   "source": [
    "residual.subs({a_11:a-a*f}).subs({a_12:a*f}).simplify_full()"
   ]
  },
  {
   "cell_type": "code",
   "execution_count": 86,
   "metadata": {},
   "outputs": [
    {
     "data": {
      "text/plain": [
       "(2*a^5*c*f^5 - (a^5 - 4*a^4*a_22 + 5*a^4)*c*f^4 + 2*(a^3*a_22^2 + 3*a^4 - (3*a^4 + a^3)*a_22)*c*f^3 - (2*a^4 + 5*a^3 + (5*a^3 - 3*a^2)*a_22^2 - 5*a^2 - 2*(a^4 + 5*a^3 - 4*a^2)*a_22)*c*f^2 + 2*(2*a^3 + 2*(a^3 - a^2)*a_22^2 - a^2 - (4*a^3 - 3*a^2 - a)*a_22 - a)*c*f - (a^3 + (a^3 - a^2)*a_22^2 - a^2 - 2*(a^3 - a^2)*a_22)*c)/(a^4*f^4 + 2*(a^3*a_22 - a^3)*f^3 + (a^2 - 2*a + 1)*a_22^2 - (2*a^3*a_22 - a^2*a_22^2 - 2*a^3 + a^2)*f^2 + a^2 - 2*(a^2 - 2*a + 1)*a_22 - 2*((a^2 - a)*a_22^2 + a^2 - 2*(a^2 - a)*a_22 - a)*f - 2*a + 1)"
      ]
     },
     "execution_count": 86,
     "metadata": {},
     "output_type": "execute_result"
    }
   ],
   "source": [
    "derivative(residual.subs({a_11:a-a*f}).subs({a_12:a*f}),f).simplify_full()"
   ]
  },
  {
   "cell_type": "code",
   "execution_count": 88,
   "metadata": {},
   "outputs": [
    {
     "data": {
      "text/plain": []
     },
     "execution_count": 88,
     "metadata": {},
     "output_type": "execute_result"
    }
   ],
   "source": []
  },
  {
   "cell_type": "code",
   "execution_count": 87,
   "metadata": {},
   "outputs": [
    {
     "data": {
      "text/plain": []
     },
     "execution_count": 87,
     "metadata": {},
     "output_type": "execute_result"
    }
   ],
   "source": []
  },
  {
   "cell_type": "code",
   "execution_count": 85,
   "metadata": {},
   "outputs": [
    {
     "data": {
      "text/plain": []
     },
     "execution_count": 85,
     "metadata": {},
     "output_type": "execute_result"
    }
   ],
   "source": []
  },
  {
   "cell_type": "code",
   "execution_count": 84,
   "metadata": {},
   "outputs": [
    {
     "data": {
      "text/plain": []
     },
     "execution_count": 84,
     "metadata": {},
     "output_type": "execute_result"
    }
   ],
   "source": []
  },
  {
   "cell_type": "code",
   "execution_count": 80,
   "metadata": {},
   "outputs": [
    {
     "data": {
      "text/plain": []
     },
     "execution_count": 80,
     "metadata": {},
     "output_type": "execute_result"
    }
   ],
   "source": []
  },
  {
   "cell_type": "code",
   "execution_count": 79,
   "metadata": {},
   "outputs": [
    {
     "data": {
      "text/plain": []
     },
     "execution_count": 79,
     "metadata": {},
     "output_type": "execute_result"
    }
   ],
   "source": []
  },
  {
   "cell_type": "code",
   "execution_count": 74,
   "metadata": {},
   "outputs": [
    {
     "data": {
      "text/plain": []
     },
     "execution_count": 74,
     "metadata": {},
     "output_type": "execute_result"
    }
   ],
   "source": []
  },
  {
   "cell_type": "code",
   "execution_count": 77,
   "metadata": {},
   "outputs": [
    {
     "data": {
      "text/plain": []
     },
     "execution_count": 77,
     "metadata": {},
     "output_type": "execute_result"
    }
   ],
   "source": []
  },
  {
   "cell_type": "code",
   "execution_count": 76,
   "metadata": {},
   "outputs": [
    {
     "data": {
      "text/plain": []
     },
     "execution_count": 76,
     "metadata": {},
     "output_type": "execute_result"
    }
   ],
   "source": []
  },
  {
   "cell_type": "code",
   "execution_count": 75,
   "metadata": {},
   "outputs": [
    {
     "data": {
      "text/plain": []
     },
     "execution_count": 75,
     "metadata": {},
     "output_type": "execute_result"
    }
   ],
   "source": []
  },
  {
   "cell_type": "code",
   "execution_count": 73,
   "metadata": {},
   "outputs": [
    {
     "data": {
      "text/plain": []
     },
     "execution_count": 73,
     "metadata": {},
     "output_type": "execute_result"
    }
   ],
   "source": []
  },
  {
   "cell_type": "code",
   "execution_count": 72,
   "metadata": {},
   "outputs": [
    {
     "data": {
      "text/plain": []
     },
     "execution_count": 72,
     "metadata": {},
     "output_type": "execute_result"
    }
   ],
   "source": []
  },
  {
   "cell_type": "code",
   "execution_count": 70,
   "metadata": {},
   "outputs": [
    {
     "data": {
      "text/plain": []
     },
     "execution_count": 70,
     "metadata": {},
     "output_type": "execute_result"
    }
   ],
   "source": []
  },
  {
   "cell_type": "code",
   "execution_count": 67,
   "metadata": {},
   "outputs": [
    {
     "data": {
      "text/plain": []
     },
     "execution_count": 67,
     "metadata": {},
     "output_type": "execute_result"
    }
   ],
   "source": []
  },
  {
   "cell_type": "code",
   "execution_count": 66,
   "metadata": {},
   "outputs": [
    {
     "data": {
      "text/plain": []
     },
     "execution_count": 66,
     "metadata": {},
     "output_type": "execute_result"
    }
   ],
   "source": []
  },
  {
   "cell_type": "code",
   "execution_count": 65,
   "metadata": {},
   "outputs": [
    {
     "data": {
      "text/plain": []
     },
     "execution_count": 65,
     "metadata": {},
     "output_type": "execute_result"
    }
   ],
   "source": []
  },
  {
   "cell_type": "code",
   "execution_count": 64,
   "metadata": {},
   "outputs": [
    {
     "data": {
      "text/plain": []
     },
     "execution_count": 64,
     "metadata": {},
     "output_type": "execute_result"
    }
   ],
   "source": []
  },
  {
   "cell_type": "code",
   "execution_count": 63,
   "metadata": {},
   "outputs": [
    {
     "data": {
      "text/plain": []
     },
     "execution_count": 63,
     "metadata": {},
     "output_type": "execute_result"
    }
   ],
   "source": []
  },
  {
   "cell_type": "code",
   "execution_count": 62,
   "metadata": {},
   "outputs": [
    {
     "data": {
      "text/plain": []
     },
     "execution_count": 62,
     "metadata": {},
     "output_type": "execute_result"
    }
   ],
   "source": []
  },
  {
   "cell_type": "code",
   "execution_count": 56,
   "metadata": {},
   "outputs": [
    {
     "data": {
      "text/plain": []
     },
     "execution_count": 56,
     "metadata": {},
     "output_type": "execute_result"
    }
   ],
   "source": []
  },
  {
   "cell_type": "code",
   "execution_count": 55,
   "metadata": {},
   "outputs": [
    {
     "data": {
      "text/plain": []
     },
     "execution_count": 55,
     "metadata": {},
     "output_type": "execute_result"
    }
   ],
   "source": []
  },
  {
   "cell_type": "code",
   "execution_count": 46,
   "metadata": {},
   "outputs": [
    {
     "data": {
      "text/plain": []
     },
     "execution_count": 46,
     "metadata": {},
     "output_type": "execute_result"
    }
   ],
   "source": []
  },
  {
   "cell_type": "code",
   "execution_count": 45,
   "metadata": {},
   "outputs": [
    {
     "data": {
      "text/plain": []
     },
     "execution_count": 45,
     "metadata": {},
     "output_type": "execute_result"
    }
   ],
   "source": []
  },
  {
   "cell_type": "code",
   "execution_count": 44,
   "metadata": {},
   "outputs": [
    {
     "data": {
      "text/plain": []
     },
     "execution_count": 44,
     "metadata": {},
     "output_type": "execute_result"
    }
   ],
   "source": []
  }
 ],
 "metadata": {
  "kernelspec": {
   "display_name": "SageMath 8.4",
   "language": "",
   "name": "sagemath"
  },
  "language": "python",
  "language_info": {
   "codemirror_mode": {
    "name": "ipython",
    "version": 2
   },
   "file_extension": ".py",
   "mimetype": "text/x-python",
   "name": "python",
   "nbconvert_exporter": "python",
   "pygments_lexer": "ipython2",
   "version": "2.7.15"
  }
 },
 "nbformat": 4,
 "nbformat_minor": 2
}
